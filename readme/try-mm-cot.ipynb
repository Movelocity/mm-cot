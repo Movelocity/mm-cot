{
  "cells": [
    {
      "cell_type": "code",
      "execution_count": 1,
      "metadata": {
        "colab": {
          "base_uri": "https://localhost:8080/"
        },
        "id": "3NAb4T0_08zn",
        "outputId": "cf5b8a2a-9743-4559-8413-061c8f79d258"
      },
      "outputs": [
        {
          "name": "stdout",
          "output_type": "stream",
          "text": [
            "Mounted at /content/drive\n"
          ]
        }
      ],
      "source": [
        "#@title Mount to google drive\n",
        "\n",
        "from google.colab import drive\n",
        "drive.mount('/content/drive')"
      ]
    },
    {
      "cell_type": "code",
      "execution_count": null,
      "metadata": {
        "colab": {
          "base_uri": "https://localhost:8080/"
        },
        "id": "mYhdcYFLPedS",
        "outputId": "89923b8c-735d-4a5e-ad9d-97a98ab27db4"
      },
      "outputs": [
        {
          "name": "stdout",
          "output_type": "stream",
          "text": [
            "Cloning into 'mm-cot'...\n",
            "remote: Enumerating objects: 102, done.\u001b[K\n",
            "remote: Counting objects: 100% (74/74), done.\u001b[K\n",
            "remote: Compressing objects: 100% (55/55), done.\u001b[K\n",
            "remote: Total 102 (delta 38), reused 46 (delta 18), pack-reused 28\u001b[K\n",
            "Receiving objects: 100% (102/102), 1.78 MiB | 14.70 MiB/s, done.\n",
            "Resolving deltas: 100% (43/43), done.\n"
          ]
        }
      ],
      "source": [
        "%cd /content/drive/MyDrive\n",
        "!git clone https://github.com/Movelocity/mm-cot.git  # there are some small changes that make the project run\n",
        "%cd mm-cot\n",
        "# !du -hs ./*"
      ]
    },
    {
      "cell_type": "code",
      "execution_count": 2,
      "metadata": {
        "colab": {
          "base_uri": "https://localhost:8080/"
        },
        "id": "gm74mRKTjdee",
        "outputId": "781831a5-5889-4bda-ea9d-0cd901fe2252"
      },
      "outputs": [
        {
          "name": "stdout",
          "output_type": "stream",
          "text": [
            "/content/drive/MyDrive/repo2/mm-cot\n",
            "From https://github.com/Movelocity/mm-cot\n",
            " * branch            HEAD       -> FETCH_HEAD\n",
            "Already up to date.\n"
          ]
        }
      ],
      "source": [
        "# %cd /content/drive/MyDrive/repo2/mm-cot\n",
        "# # !git reset --hard\n",
        "# !git pull https://github.com/Movelocity/mm-cot.git"
      ]
    },
    {
      "attachments": {},
      "cell_type": "markdown",
      "metadata": {
        "id": "4qoJPg6I_K8j"
      },
      "source": [
        "## Prepare the model\n",
        "\n",
        "Try to get the model.zip file to folder mm-cot\n",
        "\n",
        "https://drive.google.com/file/d/1FtTYOJPHnWnFfCxNC6M3gar4RAX5E21b/view?usp=share_link\n",
        "\n",
        "If your internet is limited, you can install the **\"Copy, URL to Google Drive\"** plugin in youre drive.google.com page \n",
        "\n",
        "and then open the above link in your browser.\n",
        "\n",
        "On the top right corner there will be a save_to_drive button."
      ]
    },
    {
      "cell_type": "code",
      "execution_count": null,
      "metadata": {
        "id": "HD0Melp1Azza"
      },
      "outputs": [],
      "source": [
        "# unzip model.zip to folder mm-cot\n",
        "%cd /content/drive/MyDrive/mm-cot/\n",
        "!unzip model.zip\n",
        "\n",
        "# remove __MACOSX folder if you want to save disk space\n",
        "#!rm -rf /content/drive/MyDrive/mm-cot/__MACOSX"
      ]
    },
    {
      "cell_type": "code",
      "execution_count": null,
      "metadata": {
        "id": "Gx5pPRwZQsY0"
      },
      "outputs": [],
      "source": [
        "#@title Install dependencies\n",
        "!pip install sentence-transformers==2.2.2\n",
        "!pip install transformers==4.21.1\n",
        "!pip install timm"
      ]
    },
    {
      "cell_type": "code",
      "execution_count": 4,
      "metadata": {
        "id": "7pumiJ1nZ5z_"
      },
      "outputs": [],
      "source": [
        "#@title UnifiedQA Model\n",
        "from model import T5ForMultimodalGeneration\n",
        "from transformers import T5Tokenizer\n",
        "import torch\n",
        "device = torch.device('cuda' if torch.cuda.is_available() else 'cpu')\n",
        "\n",
        "patch_size = (100, 256) # for DETR style\n",
        "tokenizer = T5Tokenizer.from_pretrained(\"./models/MM-CoT-UnifiedQA-base-Rationale\")\n",
        "padding_idx = tokenizer._convert_token_to_id(tokenizer.pad_token)\n",
        "save_dir = \"./models/MM-CoT-UnifiedQA-base-Rationale\"\n",
        "\n",
        "model = T5ForMultimodalGeneration.from_pretrained(\n",
        "    save_dir, patch_size=patch_size, padding_idx=padding_idx, save_dir=save_dir).to(device)"
      ]
    },
    {
      "cell_type": "code",
      "execution_count": 5,
      "metadata": {
        "colab": {
          "base_uri": "https://localhost:8080/",
          "height": 151,
          "referenced_widgets": [
            "cfdb16e1ee5e4eb5b2d34a615c048b43",
            "c94eff7275d1438aa3ca23702321ea7f",
            "20aef42502754a8ca404833af89171a8",
            "58d06f60f7eb43539c98ba9b760ec777",
            "18855baca29a4d05b7ef525316e55632",
            "a08e6980ccc14ef09cf94c066eb7ccee",
            "a3341fce55f24a80a271b528e395e008",
            "4ebd01b0c8284182b8749d40c0da7138",
            "4eade61819eb4cae932ac4a078936047",
            "09f24bcd9ecf442f82b06f92887afcf6",
            "31dcca6e8e1b49cdb83fd5f5f6b71b6e",
            "c727992a531a499d960ce2ab4798bcfd",
            "bd1c7fce7fe34a349118e0b254656fb0",
            "b16d514181ad4056b2dd5b2a746b16ee",
            "56a83cdbf06f4a37bdaf0223d8bc80db",
            "91d2ca4c32e0467d886b23d6a2914aca",
            "0c5f391b70ad47f99daa26658d9399dc",
            "8909c2ee38dc42aba975cbce7f8e228d",
            "25d03d68a1544aed8e1522a8703f978c",
            "d60d4a3d7fcc45daa20b4228669fdc52",
            "62f5fb62608a46a78d9c1a9851d8ee78",
            "a52cce67815a4fb1938ff6322435e3b4",
            "c2e832971a4e4e64b616d275d62fd0ed",
            "2a367d7a15624ae79bb36006623bcceb",
            "c2a78af948f143e6aaaa9a007fc629a8",
            "0e907ce08e8c4dab8c7e1a4ae4e3796d",
            "9b81adc32da9425292ca7612ad56c169",
            "ac12d6cb4f0945d2967d2a3bd5111fe9",
            "7f601a51db544e97ac526d65846d76d7",
            "042a121b9a77477b8bb42729645334ee",
            "d06ea49ff6434331b5c5852f9739fad0",
            "957c6892338843f6a8f2fe1975c33ac4",
            "405b5754994948bead34323fd6bee595"
          ]
        },
        "id": "AUcVhN2yhBbU",
        "outputId": "6bd17557-e591-4a62-ee64-011661f25ddb"
      },
      "outputs": [
        {
          "data": {
            "application/vnd.jupyter.widget-view+json": {
              "model_id": "cfdb16e1ee5e4eb5b2d34a615c048b43",
              "version_major": 2,
              "version_minor": 0
            },
            "text/plain": [
              "Downloading preprocessor_config.json:   0%|          | 0.00/274 [00:00<?, ?B/s]"
            ]
          },
          "metadata": {},
          "output_type": "display_data"
        },
        {
          "data": {
            "application/vnd.jupyter.widget-view+json": {
              "model_id": "c727992a531a499d960ce2ab4798bcfd",
              "version_major": 2,
              "version_minor": 0
            },
            "text/plain": [
              "Downloading config.json:   0%|          | 0.00/4.28k [00:00<?, ?B/s]"
            ]
          },
          "metadata": {},
          "output_type": "display_data"
        },
        {
          "data": {
            "application/vnd.jupyter.widget-view+json": {
              "model_id": "c2e832971a4e4e64b616d275d62fd0ed",
              "version_major": 2,
              "version_minor": 0
            },
            "text/plain": [
              "Downloading pytorch_model.bin:   0%|          | 0.00/232M [00:00<?, ?B/s]"
            ]
          },
          "metadata": {},
          "output_type": "display_data"
        },
        {
          "name": "stderr",
          "output_type": "stream",
          "text": [
            "Downloading: \"https://github.com/rwightman/pytorch-image-models/releases/download/v0.1-rsb-weights/resnet101_a1h-36d3f2aa.pth\" to /root/.cache/torch/hub/checkpoints/resnet101_a1h-36d3f2aa.pth\n"
          ]
        }
      ],
      "source": [
        "#@title Visual feature extractor (DETR)\n",
        "from transformers import DetrFeatureExtractor, DetrForObjectDetection\n",
        "\n",
        "torch.set_grad_enabled(False)\n",
        "preprocessor = DetrFeatureExtractor.from_pretrained('facebook/detr-resnet-101-dc5')\n",
        "detection_model = DetrForObjectDetection.from_pretrained('facebook/detr-resnet-101-dc5')\n",
        "vf_extractor = detection_model.model.to(device)"
      ]
    },
    {
      "cell_type": "markdown",
      "metadata": {
        "id": "d0zrPHzh-Xcw"
      },
      "source": [
        "### Test the model"
      ]
    },
    {
      "cell_type": "code",
      "execution_count": 23,
      "metadata": {
        "colab": {
          "base_uri": "https://localhost:8080/",
          "height": 269
        },
        "id": "jnyalPOyg4pj",
        "outputId": "23dae364-b371-4698-a85d-b4cbb52c71d3"
      },
      "outputs": [
        {
          "data": {
            "image/png": "[encoded data removed]",
            "text/plain": [
              "<Figure size 432x288 with 1 Axes>"
            ]
          },
          "metadata": {
            "needs_background": "light"
          },
          "output_type": "display_data"
        }
      ],
      "source": [
        "from PIL import Image\n",
        "import matplotlib.pyplot as plt\n",
        "import requests\n",
        "\n",
        "# url = 'http://images.cocodataset.org/val2017/000000039769.jpg'\n",
        "url = 'https://s-media-cache-ak0.pinimg.com/originals/20/5f/f3/205ff3fd8de56d9ef76d0f0da4ee30ea.jpg'\n",
        "image = Image.open(requests.get(url, stream=True).raw)\n",
        "\n",
        "plt.figure(figsize=(6,4))\n",
        "plt.imshow(image)\n",
        "plt.show()"
      ]
    },
    {
      "cell_type": "code",
      "execution_count": 12,
      "metadata": {
        "colab": {
          "base_uri": "https://localhost:8080/"
        },
        "id": "MaNMycWLiBfd",
        "outputId": "25b36c0c-68a9-425e-bd54-54edd7889c31"
      },
      "outputs": [
        {
          "name": "stdout",
          "output_type": "stream",
          "text": [
            "torch.Size([1, 100, 256])\n"
          ]
        }
      ],
      "source": [
        "inputs = preprocessor(images=image, return_tensors=\"pt\")  # dict_keys(['pixel_values', 'pixel_mask'])\n",
        "vision_tokenizer = vf_extractor(inputs['pixel_values'].to(device), inputs['pixel_mask'].to(device))  # torch.Size([1, 3, 800, 1066]), torch.Size([1, 800, 1066])\n",
        "torch.save(vision_tokenizer[0], 'visual_tmp_feature.pt')  # Firstly save the vision feature to dist\n",
        "print(vision_tokenizer[0].shape)  # Do not forget to update current vision feature"
      ]
    },
    {
      "cell_type": "code",
      "execution_count": 8,
      "metadata": {
        "id": "DWS_K8QUnNFP"
      },
      "outputs": [],
      "source": [
        "def show_result(outputs):\n",
        "    b = []\n",
        "    for id in outputs.squeeze().cpu().numpy():\n",
        "        if id == 29: b += [29]*4\n",
        "        else: b.append(id)\n",
        "    c = tokenizer.batch_decode([b], skip_special_tokens=True, clean_up_tokenization_spaces=True)[0].replace('nnnn', '\\n')\n",
        "    print(c)"
      ]
    },
    {
      "cell_type": "code",
      "execution_count": 29,
      "metadata": {
        "colab": {
          "base_uri": "https://localhost:8080/"
        },
        "id": "lHVrApRnylVC",
        "outputId": "9e4a2bbe-3a6c-448f-9e4a-d3cef8afc0a1"
      },
      "outputs": [
        {
          "name": "stdout",
          "output_type": "stream",
          "text": [
            "Solution: A food web is a network of connections that links different parts of an environment. There are many kinds of food webs. You can use these connections to find food.\n",
            "A food web is a network of connections that links different parts of an environment. There are many ways an organism can get its food. The root of a food web is the food web. It can tell you how an organism is doing.\n",
            "The color of an arrow tells you the type of arrow. The arrows point to the direction of the arrows. This tells you that the arrows point to the direction of the arrows.\n",
            "A fox is a mammal. It uses its arrows to catch the fox.\n",
            "The fox uses its arrows to catch the fox to catch the fox. The arrows point to the fox and the fox. So, the fox hunts snake..\n"
          ]
        }
      ],
      "source": [
        "question = \"Question: Based on the arrows, which kind of animal hunts snake? \" \\\n",
        "            \"Context: There is a food web in the picture, the animal that is pointed is a predator. \" \\\n",
        "            \"Options: (A) Eagle (B) Owl (C) Rabbit (D) Frog \" \\\n",
        "            \"Solution:\"\n",
        "input_ids = tokenizer.encode(question, return_tensors=\"pt\").to(device)\n",
        "\n",
        "outputs = model.generate(input_ids, max_length=512)  # reads the vision feature if file detacted\n",
        "show_result(outputs)"
      ]
    },
    {
      "cell_type": "markdown",
      "metadata": {
        "id": "2RQ03AD39lX8"
      },
      "source": [
        "Demostration question format:\n",
        "\n",
        "\"Question: Which of the following could Gordon's test show? \n",
        "\n",
        "Context: People can use the engineering-design process to develop solutions to problems. One step in the process is testing if a potential solution meets the requirements of the design. The passage below describes how the engineering-design process was used to test a solution to a problem. Read the passage. Then answer the question below. Gordon was an aerospace engineer who was developing a parachute for a spacecraft that would land on Mars. He needed to add a vent at the center of the parachute so the spacecraft would land smoothly. However, the spacecraft would have to travel at a high speed before landing. If the vent was too big or too small, the parachute might swing wildly at this speed. The movement could damage the spacecraft. So, to help decide how big the vent should be, Gordon put a parachute with a 1 m vent in a wind tunnel. The wind tunnel made it seem like the parachute was moving at 200 km per hour. He observed the parachute to see how much it swung. Figure: a spacecraft's parachute in a wind tunnel. \n",
        "\n",
        "Options: (A) if the spacecraft was damaged when using a parachute with a 1 m vent going 200 km per hour (B) how steady a parachute with a 1 m vent was at 200 km per hour (C) whether a parachute with a 1 m vent would swing too much at 400 km per hour \n",
        "\n",
        "Solution:\""
      ]
    },
    {
      "cell_type": "code",
      "execution_count": null,
      "metadata": {
        "id": "2q_BKHDb9KVP"
      },
      "outputs": [],
      "source": []
    },
    {
      "cell_type": "markdown",
      "metadata": {
        "id": "ZMscwZBG7D0x"
      },
      "source": [
        "### Inspect the ScienceQA dataset if you like"
      ]
    },
    {
      "cell_type": "code",
      "execution_count": null,
      "metadata": {
        "colab": {
          "base_uri": "https://localhost:8080/"
        },
        "id": "NBeS15HQ2VYh",
        "outputId": "48f032bf-6fb1-4352-c2c3-160e62bef07d"
      },
      "outputs": [
        {
          "name": "stdout",
          "output_type": "stream",
          "text": [
            "Cloning into 'ScienceQA'...\n",
            "remote: Enumerating objects: 86, done.\u001b[K\n",
            "remote: Counting objects: 100% (86/86), done.\u001b[K\n",
            "remote: Compressing objects: 100% (80/80), done.\u001b[K\n",
            "remote: Total 86 (delta 34), reused 33 (delta 4), pack-reused 0\u001b[K\n",
            "Unpacking objects: 100% (86/86), 11.28 MiB | 3.60 MiB/s, done.\n"
          ]
        }
      ],
      "source": [
        "!git clone https://github.com/lupantech/ScienceQA.git"
      ]
    },
    {
      "cell_type": "code",
      "execution_count": null,
      "metadata": {
        "colab": {
          "base_uri": "https://localhost:8080/"
        },
        "id": "iDK2KSDg15Qh",
        "outputId": "fb456cf1-83f2-4e53-bf86-03a4a6bc912d"
      },
      "outputs": [
        {
          "name": "stdout",
          "output_type": "stream",
          "text": [
            "img_features size:  (11208, 100, 256)\n",
            "number of train problems: 12726\n",
            "\n",
            "number of val problems: 4241\n",
            "\n",
            "number of test problems: 4241\n",
            "\n"
          ]
        }
      ],
      "source": [
        "from utils_data import img_shape, load_data_img, ScienceQADatasetImg, HParams\n",
        "import json\n",
        "\n",
        "config = json.load(open('config.json'))\n",
        "hps = HParams(**config['rationale_generation'])\n",
        "\n",
        "problems, qids, name_maps, image_features = load_data_img(hps)"
      ]
    },
    {
      "cell_type": "code",
      "execution_count": null,
      "metadata": {
        "id": "Mk4pnG6GSFfI"
      },
      "outputs": [],
      "source": [
        "test_set = ScienceQADatasetImg(\n",
        "            problems, \n",
        "            qids['test'], \n",
        "            name_maps,\n",
        "            tokenizer,\n",
        "            hps.input_len,\n",
        "            hps.output_len,\n",
        "            hps,\n",
        "            image_features,\n",
        "            hps.test_le,\n",
        "        )\n",
        "\n",
        "data_piece = test_set.__getitem__(1)\n",
        "# return dict{\n",
        "#   \"input_ids\": source_ids,\n",
        "#   \"attention_mask\": source_mask,\n",
        "#   \"image_ids\": image_ids,\n",
        "#   \"labels\": target_ids,\n",
        "# }"
      ]
    }
  ],
  "metadata": {
    "accelerator": "GPU",
    "colab": {
      "collapsed_sections": [
        "ZMscwZBG7D0x"
      ],
      "provenance": []
    },
    "gpuClass": "standard",
    "kernelspec": {
      "display_name": "Python 3",
      "name": "python3"
    },
    "widgets": {
      "application/vnd.jupyter.widget-state+json": {
        "042a121b9a77477b8bb42729645334ee": {
          "model_module": "@jupyter-widgets/base",
          "model_module_version": "1.2.0",
          "model_name": "LayoutModel",
          "state": {
            "_model_module": "@jupyter-widgets/base",
            "_model_module_version": "1.2.0",
            "_model_name": "LayoutModel",
            "_view_count": null,
            "_view_module": "@jupyter-widgets/base",
            "_view_module_version": "1.2.0",
            "_view_name": "LayoutView",
            "align_content": null,
            "align_items": null,
            "align_self": null,
            "border": null,
            "bottom": null,
            "display": null,
            "flex": null,
            "flex_flow": null,
            "grid_area": null,
            "grid_auto_columns": null,
            "grid_auto_flow": null,
            "grid_auto_rows": null,
            "grid_column": null,
            "grid_gap": null,
            "grid_row": null,
            "grid_template_areas": null,
            "grid_template_columns": null,
            "grid_template_rows": null,
            "height": null,
            "justify_content": null,
            "justify_items": null,
            "left": null,
            "margin": null,
            "max_height": null,
            "max_width": null,
            "min_height": null,
            "min_width": null,
            "object_fit": null,
            "object_position": null,
            "order": null,
            "overflow": null,
            "overflow_x": null,
            "overflow_y": null,
            "padding": null,
            "right": null,
            "top": null,
            "visibility": null,
            "width": null
          }
        },
        "09f24bcd9ecf442f82b06f92887afcf6": {
          "model_module": "@jupyter-widgets/base",
          "model_module_version": "1.2.0",
          "model_name": "LayoutModel",
          "state": {
            "_model_module": "@jupyter-widgets/base",
            "_model_module_version": "1.2.0",
            "_model_name": "LayoutModel",
            "_view_count": null,
            "_view_module": "@jupyter-widgets/base",
            "_view_module_version": "1.2.0",
            "_view_name": "LayoutView",
            "align_content": null,
            "align_items": null,
            "align_self": null,
            "border": null,
            "bottom": null,
            "display": null,
            "flex": null,
            "flex_flow": null,
            "grid_area": null,
            "grid_auto_columns": null,
            "grid_auto_flow": null,
            "grid_auto_rows": null,
            "grid_column": null,
            "grid_gap": null,
            "grid_row": null,
            "grid_template_areas": null,
            "grid_template_columns": null,
            "grid_template_rows": null,
            "height": null,
            "justify_content": null,
            "justify_items": null,
            "left": null,
            "margin": null,
            "max_height": null,
            "max_width": null,
            "min_height": null,
            "min_width": null,
            "object_fit": null,
            "object_position": null,
            "order": null,
            "overflow": null,
            "overflow_x": null,
            "overflow_y": null,
            "padding": null,
            "right": null,
            "top": null,
            "visibility": null,
            "width": null
          }
        },
        "0c5f391b70ad47f99daa26658d9399dc": {
          "model_module": "@jupyter-widgets/base",
          "model_module_version": "1.2.0",
          "model_name": "LayoutModel",
          "state": {
            "_model_module": "@jupyter-widgets/base",
            "_model_module_version": "1.2.0",
            "_model_name": "LayoutModel",
            "_view_count": null,
            "_view_module": "@jupyter-widgets/base",
            "_view_module_version": "1.2.0",
            "_view_name": "LayoutView",
            "align_content": null,
            "align_items": null,
            "align_self": null,
            "border": null,
            "bottom": null,
            "display": null,
            "flex": null,
            "flex_flow": null,
            "grid_area": null,
            "grid_auto_columns": null,
            "grid_auto_flow": null,
            "grid_auto_rows": null,
            "grid_column": null,
            "grid_gap": null,
            "grid_row": null,
            "grid_template_areas": null,
            "grid_template_columns": null,
            "grid_template_rows": null,
            "height": null,
            "justify_content": null,
            "justify_items": null,
            "left": null,
            "margin": null,
            "max_height": null,
            "max_width": null,
            "min_height": null,
            "min_width": null,
            "object_fit": null,
            "object_position": null,
            "order": null,
            "overflow": null,
            "overflow_x": null,
            "overflow_y": null,
            "padding": null,
            "right": null,
            "top": null,
            "visibility": null,
            "width": null
          }
        },
        "0e907ce08e8c4dab8c7e1a4ae4e3796d": {
          "model_module": "@jupyter-widgets/controls",
          "model_module_version": "1.5.0",
          "model_name": "HTMLModel",
          "state": {
            "_dom_classes": [],
            "_model_module": "@jupyter-widgets/controls",
            "_model_module_version": "1.5.0",
            "_model_name": "HTMLModel",
            "_view_count": null,
            "_view_module": "@jupyter-widgets/controls",
            "_view_module_version": "1.5.0",
            "_view_name": "HTMLView",
            "description": "",
            "description_tooltip": null,
            "layout": "IPY_MODEL_957c6892338843f6a8f2fe1975c33ac4",
            "placeholder": "​",
            "style": "IPY_MODEL_405b5754994948bead34323fd6bee595",
            "value": " 232M/232M [00:14&lt;00:00, 18.6MB/s]"
          }
        },
        "18855baca29a4d05b7ef525316e55632": {
          "model_module": "@jupyter-widgets/base",
          "model_module_version": "1.2.0",
          "model_name": "LayoutModel",
          "state": {
            "_model_module": "@jupyter-widgets/base",
            "_model_module_version": "1.2.0",
            "_model_name": "LayoutModel",
            "_view_count": null,
            "_view_module": "@jupyter-widgets/base",
            "_view_module_version": "1.2.0",
            "_view_name": "LayoutView",
            "align_content": null,
            "align_items": null,
            "align_self": null,
            "border": null,
            "bottom": null,
            "display": null,
            "flex": null,
            "flex_flow": null,
            "grid_area": null,
            "grid_auto_columns": null,
            "grid_auto_flow": null,
            "grid_auto_rows": null,
            "grid_column": null,
            "grid_gap": null,
            "grid_row": null,
            "grid_template_areas": null,
            "grid_template_columns": null,
            "grid_template_rows": null,
            "height": null,
            "justify_content": null,
            "justify_items": null,
            "left": null,
            "margin": null,
            "max_height": null,
            "max_width": null,
            "min_height": null,
            "min_width": null,
            "object_fit": null,
            "object_position": null,
            "order": null,
            "overflow": null,
            "overflow_x": null,
            "overflow_y": null,
            "padding": null,
            "right": null,
            "top": null,
            "visibility": null,
            "width": null
          }
        },
        "20aef42502754a8ca404833af89171a8": {
          "model_module": "@jupyter-widgets/controls",
          "model_module_version": "1.5.0",
          "model_name": "FloatProgressModel",
          "state": {
            "_dom_classes": [],
            "_model_module": "@jupyter-widgets/controls",
            "_model_module_version": "1.5.0",
            "_model_name": "FloatProgressModel",
            "_view_count": null,
            "_view_module": "@jupyter-widgets/controls",
            "_view_module_version": "1.5.0",
            "_view_name": "ProgressView",
            "bar_style": "success",
            "description": "",
            "description_tooltip": null,
            "layout": "IPY_MODEL_4ebd01b0c8284182b8749d40c0da7138",
            "max": 274,
            "min": 0,
            "orientation": "horizontal",
            "style": "IPY_MODEL_4eade61819eb4cae932ac4a078936047",
            "value": 274
          }
        },
        "25d03d68a1544aed8e1522a8703f978c": {
          "model_module": "@jupyter-widgets/base",
          "model_module_version": "1.2.0",
          "model_name": "LayoutModel",
          "state": {
            "_model_module": "@jupyter-widgets/base",
            "_model_module_version": "1.2.0",
            "_model_name": "LayoutModel",
            "_view_count": null,
            "_view_module": "@jupyter-widgets/base",
            "_view_module_version": "1.2.0",
            "_view_name": "LayoutView",
            "align_content": null,
            "align_items": null,
            "align_self": null,
            "border": null,
            "bottom": null,
            "display": null,
            "flex": null,
            "flex_flow": null,
            "grid_area": null,
            "grid_auto_columns": null,
            "grid_auto_flow": null,
            "grid_auto_rows": null,
            "grid_column": null,
            "grid_gap": null,
            "grid_row": null,
            "grid_template_areas": null,
            "grid_template_columns": null,
            "grid_template_rows": null,
            "height": null,
            "justify_content": null,
            "justify_items": null,
            "left": null,
            "margin": null,
            "max_height": null,
            "max_width": null,
            "min_height": null,
            "min_width": null,
            "object_fit": null,
            "object_position": null,
            "order": null,
            "overflow": null,
            "overflow_x": null,
            "overflow_y": null,
            "padding": null,
            "right": null,
            "top": null,
            "visibility": null,
            "width": null
          }
        },
        "2a367d7a15624ae79bb36006623bcceb": {
          "model_module": "@jupyter-widgets/controls",
          "model_module_version": "1.5.0",
          "model_name": "HTMLModel",
          "state": {
            "_dom_classes": [],
            "_model_module": "@jupyter-widgets/controls",
            "_model_module_version": "1.5.0",
            "_model_name": "HTMLModel",
            "_view_count": null,
            "_view_module": "@jupyter-widgets/controls",
            "_view_module_version": "1.5.0",
            "_view_name": "HTMLView",
            "description": "",
            "description_tooltip": null,
            "layout": "IPY_MODEL_ac12d6cb4f0945d2967d2a3bd5111fe9",
            "placeholder": "​",
            "style": "IPY_MODEL_7f601a51db544e97ac526d65846d76d7",
            "value": "Downloading pytorch_model.bin: 100%"
          }
        },
        "31dcca6e8e1b49cdb83fd5f5f6b71b6e": {
          "model_module": "@jupyter-widgets/controls",
          "model_module_version": "1.5.0",
          "model_name": "DescriptionStyleModel",
          "state": {
            "_model_module": "@jupyter-widgets/controls",
            "_model_module_version": "1.5.0",
            "_model_name": "DescriptionStyleModel",
            "_view_count": null,
            "_view_module": "@jupyter-widgets/base",
            "_view_module_version": "1.2.0",
            "_view_name": "StyleView",
            "description_width": ""
          }
        },
        "405b5754994948bead34323fd6bee595": {
          "model_module": "@jupyter-widgets/controls",
          "model_module_version": "1.5.0",
          "model_name": "DescriptionStyleModel",
          "state": {
            "_model_module": "@jupyter-widgets/controls",
            "_model_module_version": "1.5.0",
            "_model_name": "DescriptionStyleModel",
            "_view_count": null,
            "_view_module": "@jupyter-widgets/base",
            "_view_module_version": "1.2.0",
            "_view_name": "StyleView",
            "description_width": ""
          }
        },
        "4eade61819eb4cae932ac4a078936047": {
          "model_module": "@jupyter-widgets/controls",
          "model_module_version": "1.5.0",
          "model_name": "ProgressStyleModel",
          "state": {
            "_model_module": "@jupyter-widgets/controls",
            "_model_module_version": "1.5.0",
            "_model_name": "ProgressStyleModel",
            "_view_count": null,
            "_view_module": "@jupyter-widgets/base",
            "_view_module_version": "1.2.0",
            "_view_name": "StyleView",
            "bar_color": null,
            "description_width": ""
          }
        },
        "4ebd01b0c8284182b8749d40c0da7138": {
          "model_module": "@jupyter-widgets/base",
          "model_module_version": "1.2.0",
          "model_name": "LayoutModel",
          "state": {
            "_model_module": "@jupyter-widgets/base",
            "_model_module_version": "1.2.0",
            "_model_name": "LayoutModel",
            "_view_count": null,
            "_view_module": "@jupyter-widgets/base",
            "_view_module_version": "1.2.0",
            "_view_name": "LayoutView",
            "align_content": null,
            "align_items": null,
            "align_self": null,
            "border": null,
            "bottom": null,
            "display": null,
            "flex": null,
            "flex_flow": null,
            "grid_area": null,
            "grid_auto_columns": null,
            "grid_auto_flow": null,
            "grid_auto_rows": null,
            "grid_column": null,
            "grid_gap": null,
            "grid_row": null,
            "grid_template_areas": null,
            "grid_template_columns": null,
            "grid_template_rows": null,
            "height": null,
            "justify_content": null,
            "justify_items": null,
            "left": null,
            "margin": null,
            "max_height": null,
            "max_width": null,
            "min_height": null,
            "min_width": null,
            "object_fit": null,
            "object_position": null,
            "order": null,
            "overflow": null,
            "overflow_x": null,
            "overflow_y": null,
            "padding": null,
            "right": null,
            "top": null,
            "visibility": null,
            "width": null
          }
        },
        "56a83cdbf06f4a37bdaf0223d8bc80db": {
          "model_module": "@jupyter-widgets/controls",
          "model_module_version": "1.5.0",
          "model_name": "HTMLModel",
          "state": {
            "_dom_classes": [],
            "_model_module": "@jupyter-widgets/controls",
            "_model_module_version": "1.5.0",
            "_model_name": "HTMLModel",
            "_view_count": null,
            "_view_module": "@jupyter-widgets/controls",
            "_view_module_version": "1.5.0",
            "_view_name": "HTMLView",
            "description": "",
            "description_tooltip": null,
            "layout": "IPY_MODEL_62f5fb62608a46a78d9c1a9851d8ee78",
            "placeholder": "​",
            "style": "IPY_MODEL_a52cce67815a4fb1938ff6322435e3b4",
            "value": " 4.28k/4.28k [00:00&lt;00:00, 192kB/s]"
          }
        },
        "58d06f60f7eb43539c98ba9b760ec777": {
          "model_module": "@jupyter-widgets/controls",
          "model_module_version": "1.5.0",
          "model_name": "HTMLModel",
          "state": {
            "_dom_classes": [],
            "_model_module": "@jupyter-widgets/controls",
            "_model_module_version": "1.5.0",
            "_model_name": "HTMLModel",
            "_view_count": null,
            "_view_module": "@jupyter-widgets/controls",
            "_view_module_version": "1.5.0",
            "_view_name": "HTMLView",
            "description": "",
            "description_tooltip": null,
            "layout": "IPY_MODEL_09f24bcd9ecf442f82b06f92887afcf6",
            "placeholder": "​",
            "style": "IPY_MODEL_31dcca6e8e1b49cdb83fd5f5f6b71b6e",
            "value": " 274/274 [00:00&lt;00:00, 9.48kB/s]"
          }
        },
        "62f5fb62608a46a78d9c1a9851d8ee78": {
          "model_module": "@jupyter-widgets/base",
          "model_module_version": "1.2.0",
          "model_name": "LayoutModel",
          "state": {
            "_model_module": "@jupyter-widgets/base",
            "_model_module_version": "1.2.0",
            "_model_name": "LayoutModel",
            "_view_count": null,
            "_view_module": "@jupyter-widgets/base",
            "_view_module_version": "1.2.0",
            "_view_name": "LayoutView",
            "align_content": null,
            "align_items": null,
            "align_self": null,
            "border": null,
            "bottom": null,
            "display": null,
            "flex": null,
            "flex_flow": null,
            "grid_area": null,
            "grid_auto_columns": null,
            "grid_auto_flow": null,
            "grid_auto_rows": null,
            "grid_column": null,
            "grid_gap": null,
            "grid_row": null,
            "grid_template_areas": null,
            "grid_template_columns": null,
            "grid_template_rows": null,
            "height": null,
            "justify_content": null,
            "justify_items": null,
            "left": null,
            "margin": null,
            "max_height": null,
            "max_width": null,
            "min_height": null,
            "min_width": null,
            "object_fit": null,
            "object_position": null,
            "order": null,
            "overflow": null,
            "overflow_x": null,
            "overflow_y": null,
            "padding": null,
            "right": null,
            "top": null,
            "visibility": null,
            "width": null
          }
        },
        "7f601a51db544e97ac526d65846d76d7": {
          "model_module": "@jupyter-widgets/controls",
          "model_module_version": "1.5.0",
          "model_name": "DescriptionStyleModel",
          "state": {
            "_model_module": "@jupyter-widgets/controls",
            "_model_module_version": "1.5.0",
            "_model_name": "DescriptionStyleModel",
            "_view_count": null,
            "_view_module": "@jupyter-widgets/base",
            "_view_module_version": "1.2.0",
            "_view_name": "StyleView",
            "description_width": ""
          }
        },
        "8909c2ee38dc42aba975cbce7f8e228d": {
          "model_module": "@jupyter-widgets/controls",
          "model_module_version": "1.5.0",
          "model_name": "DescriptionStyleModel",
          "state": {
            "_model_module": "@jupyter-widgets/controls",
            "_model_module_version": "1.5.0",
            "_model_name": "DescriptionStyleModel",
            "_view_count": null,
            "_view_module": "@jupyter-widgets/base",
            "_view_module_version": "1.2.0",
            "_view_name": "StyleView",
            "description_width": ""
          }
        },
        "91d2ca4c32e0467d886b23d6a2914aca": {
          "model_module": "@jupyter-widgets/base",
          "model_module_version": "1.2.0",
          "model_name": "LayoutModel",
          "state": {
            "_model_module": "@jupyter-widgets/base",
            "_model_module_version": "1.2.0",
            "_model_name": "LayoutModel",
            "_view_count": null,
            "_view_module": "@jupyter-widgets/base",
            "_view_module_version": "1.2.0",
            "_view_name": "LayoutView",
            "align_content": null,
            "align_items": null,
            "align_self": null,
            "border": null,
            "bottom": null,
            "display": null,
            "flex": null,
            "flex_flow": null,
            "grid_area": null,
            "grid_auto_columns": null,
            "grid_auto_flow": null,
            "grid_auto_rows": null,
            "grid_column": null,
            "grid_gap": null,
            "grid_row": null,
            "grid_template_areas": null,
            "grid_template_columns": null,
            "grid_template_rows": null,
            "height": null,
            "justify_content": null,
            "justify_items": null,
            "left": null,
            "margin": null,
            "max_height": null,
            "max_width": null,
            "min_height": null,
            "min_width": null,
            "object_fit": null,
            "object_position": null,
            "order": null,
            "overflow": null,
            "overflow_x": null,
            "overflow_y": null,
            "padding": null,
            "right": null,
            "top": null,
            "visibility": null,
            "width": null
          }
        },
        "957c6892338843f6a8f2fe1975c33ac4": {
          "model_module": "@jupyter-widgets/base",
          "model_module_version": "1.2.0",
          "model_name": "LayoutModel",
          "state": {
            "_model_module": "@jupyter-widgets/base",
            "_model_module_version": "1.2.0",
            "_model_name": "LayoutModel",
            "_view_count": null,
            "_view_module": "@jupyter-widgets/base",
            "_view_module_version": "1.2.0",
            "_view_name": "LayoutView",
            "align_content": null,
            "align_items": null,
            "align_self": null,
            "border": null,
            "bottom": null,
            "display": null,
            "flex": null,
            "flex_flow": null,
            "grid_area": null,
            "grid_auto_columns": null,
            "grid_auto_flow": null,
            "grid_auto_rows": null,
            "grid_column": null,
            "grid_gap": null,
            "grid_row": null,
            "grid_template_areas": null,
            "grid_template_columns": null,
            "grid_template_rows": null,
            "height": null,
            "justify_content": null,
            "justify_items": null,
            "left": null,
            "margin": null,
            "max_height": null,
            "max_width": null,
            "min_height": null,
            "min_width": null,
            "object_fit": null,
            "object_position": null,
            "order": null,
            "overflow": null,
            "overflow_x": null,
            "overflow_y": null,
            "padding": null,
            "right": null,
            "top": null,
            "visibility": null,
            "width": null
          }
        },
        "9b81adc32da9425292ca7612ad56c169": {
          "model_module": "@jupyter-widgets/base",
          "model_module_version": "1.2.0",
          "model_name": "LayoutModel",
          "state": {
            "_model_module": "@jupyter-widgets/base",
            "_model_module_version": "1.2.0",
            "_model_name": "LayoutModel",
            "_view_count": null,
            "_view_module": "@jupyter-widgets/base",
            "_view_module_version": "1.2.0",
            "_view_name": "LayoutView",
            "align_content": null,
            "align_items": null,
            "align_self": null,
            "border": null,
            "bottom": null,
            "display": null,
            "flex": null,
            "flex_flow": null,
            "grid_area": null,
            "grid_auto_columns": null,
            "grid_auto_flow": null,
            "grid_auto_rows": null,
            "grid_column": null,
            "grid_gap": null,
            "grid_row": null,
            "grid_template_areas": null,
            "grid_template_columns": null,
            "grid_template_rows": null,
            "height": null,
            "justify_content": null,
            "justify_items": null,
            "left": null,
            "margin": null,
            "max_height": null,
            "max_width": null,
            "min_height": null,
            "min_width": null,
            "object_fit": null,
            "object_position": null,
            "order": null,
            "overflow": null,
            "overflow_x": null,
            "overflow_y": null,
            "padding": null,
            "right": null,
            "top": null,
            "visibility": null,
            "width": null
          }
        },
        "a08e6980ccc14ef09cf94c066eb7ccee": {
          "model_module": "@jupyter-widgets/base",
          "model_module_version": "1.2.0",
          "model_name": "LayoutModel",
          "state": {
            "_model_module": "@jupyter-widgets/base",
            "_model_module_version": "1.2.0",
            "_model_name": "LayoutModel",
            "_view_count": null,
            "_view_module": "@jupyter-widgets/base",
            "_view_module_version": "1.2.0",
            "_view_name": "LayoutView",
            "align_content": null,
            "align_items": null,
            "align_self": null,
            "border": null,
            "bottom": null,
            "display": null,
            "flex": null,
            "flex_flow": null,
            "grid_area": null,
            "grid_auto_columns": null,
            "grid_auto_flow": null,
            "grid_auto_rows": null,
            "grid_column": null,
            "grid_gap": null,
            "grid_row": null,
            "grid_template_areas": null,
            "grid_template_columns": null,
            "grid_template_rows": null,
            "height": null,
            "justify_content": null,
            "justify_items": null,
            "left": null,
            "margin": null,
            "max_height": null,
            "max_width": null,
            "min_height": null,
            "min_width": null,
            "object_fit": null,
            "object_position": null,
            "order": null,
            "overflow": null,
            "overflow_x": null,
            "overflow_y": null,
            "padding": null,
            "right": null,
            "top": null,
            "visibility": null,
            "width": null
          }
        },
        "a3341fce55f24a80a271b528e395e008": {
          "model_module": "@jupyter-widgets/controls",
          "model_module_version": "1.5.0",
          "model_name": "DescriptionStyleModel",
          "state": {
            "_model_module": "@jupyter-widgets/controls",
            "_model_module_version": "1.5.0",
            "_model_name": "DescriptionStyleModel",
            "_view_count": null,
            "_view_module": "@jupyter-widgets/base",
            "_view_module_version": "1.2.0",
            "_view_name": "StyleView",
            "description_width": ""
          }
        },
        "a52cce67815a4fb1938ff6322435e3b4": {
          "model_module": "@jupyter-widgets/controls",
          "model_module_version": "1.5.0",
          "model_name": "DescriptionStyleModel",
          "state": {
            "_model_module": "@jupyter-widgets/controls",
            "_model_module_version": "1.5.0",
            "_model_name": "DescriptionStyleModel",
            "_view_count": null,
            "_view_module": "@jupyter-widgets/base",
            "_view_module_version": "1.2.0",
            "_view_name": "StyleView",
            "description_width": ""
          }
        },
        "ac12d6cb4f0945d2967d2a3bd5111fe9": {
          "model_module": "@jupyter-widgets/base",
          "model_module_version": "1.2.0",
          "model_name": "LayoutModel",
          "state": {
            "_model_module": "@jupyter-widgets/base",
            "_model_module_version": "1.2.0",
            "_model_name": "LayoutModel",
            "_view_count": null,
            "_view_module": "@jupyter-widgets/base",
            "_view_module_version": "1.2.0",
            "_view_name": "LayoutView",
            "align_content": null,
            "align_items": null,
            "align_self": null,
            "border": null,
            "bottom": null,
            "display": null,
            "flex": null,
            "flex_flow": null,
            "grid_area": null,
            "grid_auto_columns": null,
            "grid_auto_flow": null,
            "grid_auto_rows": null,
            "grid_column": null,
            "grid_gap": null,
            "grid_row": null,
            "grid_template_areas": null,
            "grid_template_columns": null,
            "grid_template_rows": null,
            "height": null,
            "justify_content": null,
            "justify_items": null,
            "left": null,
            "margin": null,
            "max_height": null,
            "max_width": null,
            "min_height": null,
            "min_width": null,
            "object_fit": null,
            "object_position": null,
            "order": null,
            "overflow": null,
            "overflow_x": null,
            "overflow_y": null,
            "padding": null,
            "right": null,
            "top": null,
            "visibility": null,
            "width": null
          }
        },
        "b16d514181ad4056b2dd5b2a746b16ee": {
          "model_module": "@jupyter-widgets/controls",
          "model_module_version": "1.5.0",
          "model_name": "FloatProgressModel",
          "state": {
            "_dom_classes": [],
            "_model_module": "@jupyter-widgets/controls",
            "_model_module_version": "1.5.0",
            "_model_name": "FloatProgressModel",
            "_view_count": null,
            "_view_module": "@jupyter-widgets/controls",
            "_view_module_version": "1.5.0",
            "_view_name": "ProgressView",
            "bar_style": "success",
            "description": "",
            "description_tooltip": null,
            "layout": "IPY_MODEL_25d03d68a1544aed8e1522a8703f978c",
            "max": 4381,
            "min": 0,
            "orientation": "horizontal",
            "style": "IPY_MODEL_d60d4a3d7fcc45daa20b4228669fdc52",
            "value": 4381
          }
        },
        "bd1c7fce7fe34a349118e0b254656fb0": {
          "model_module": "@jupyter-widgets/controls",
          "model_module_version": "1.5.0",
          "model_name": "HTMLModel",
          "state": {
            "_dom_classes": [],
            "_model_module": "@jupyter-widgets/controls",
            "_model_module_version": "1.5.0",
            "_model_name": "HTMLModel",
            "_view_count": null,
            "_view_module": "@jupyter-widgets/controls",
            "_view_module_version": "1.5.0",
            "_view_name": "HTMLView",
            "description": "",
            "description_tooltip": null,
            "layout": "IPY_MODEL_0c5f391b70ad47f99daa26658d9399dc",
            "placeholder": "​",
            "style": "IPY_MODEL_8909c2ee38dc42aba975cbce7f8e228d",
            "value": "Downloading config.json: 100%"
          }
        },
        "c2a78af948f143e6aaaa9a007fc629a8": {
          "model_module": "@jupyter-widgets/controls",
          "model_module_version": "1.5.0",
          "model_name": "FloatProgressModel",
          "state": {
            "_dom_classes": [],
            "_model_module": "@jupyter-widgets/controls",
            "_model_module_version": "1.5.0",
            "_model_name": "FloatProgressModel",
            "_view_count": null,
            "_view_module": "@jupyter-widgets/controls",
            "_view_module_version": "1.5.0",
            "_view_name": "ProgressView",
            "bar_style": "success",
            "description": "",
            "description_tooltip": null,
            "layout": "IPY_MODEL_042a121b9a77477b8bb42729645334ee",
            "max": 243011543,
            "min": 0,
            "orientation": "horizontal",
            "style": "IPY_MODEL_d06ea49ff6434331b5c5852f9739fad0",
            "value": 243011543
          }
        },
        "c2e832971a4e4e64b616d275d62fd0ed": {
          "model_module": "@jupyter-widgets/controls",
          "model_module_version": "1.5.0",
          "model_name": "HBoxModel",
          "state": {
            "_dom_classes": [],
            "_model_module": "@jupyter-widgets/controls",
            "_model_module_version": "1.5.0",
            "_model_name": "HBoxModel",
            "_view_count": null,
            "_view_module": "@jupyter-widgets/controls",
            "_view_module_version": "1.5.0",
            "_view_name": "HBoxView",
            "box_style": "",
            "children": [
              "IPY_MODEL_2a367d7a15624ae79bb36006623bcceb",
              "IPY_MODEL_c2a78af948f143e6aaaa9a007fc629a8",
              "IPY_MODEL_0e907ce08e8c4dab8c7e1a4ae4e3796d"
            ],
            "layout": "IPY_MODEL_9b81adc32da9425292ca7612ad56c169"
          }
        },
        "c727992a531a499d960ce2ab4798bcfd": {
          "model_module": "@jupyter-widgets/controls",
          "model_module_version": "1.5.0",
          "model_name": "HBoxModel",
          "state": {
            "_dom_classes": [],
            "_model_module": "@jupyter-widgets/controls",
            "_model_module_version": "1.5.0",
            "_model_name": "HBoxModel",
            "_view_count": null,
            "_view_module": "@jupyter-widgets/controls",
            "_view_module_version": "1.5.0",
            "_view_name": "HBoxView",
            "box_style": "",
            "children": [
              "IPY_MODEL_bd1c7fce7fe34a349118e0b254656fb0",
              "IPY_MODEL_b16d514181ad4056b2dd5b2a746b16ee",
              "IPY_MODEL_56a83cdbf06f4a37bdaf0223d8bc80db"
            ],
            "layout": "IPY_MODEL_91d2ca4c32e0467d886b23d6a2914aca"
          }
        },
        "c94eff7275d1438aa3ca23702321ea7f": {
          "model_module": "@jupyter-widgets/controls",
          "model_module_version": "1.5.0",
          "model_name": "HTMLModel",
          "state": {
            "_dom_classes": [],
            "_model_module": "@jupyter-widgets/controls",
            "_model_module_version": "1.5.0",
            "_model_name": "HTMLModel",
            "_view_count": null,
            "_view_module": "@jupyter-widgets/controls",
            "_view_module_version": "1.5.0",
            "_view_name": "HTMLView",
            "description": "",
            "description_tooltip": null,
            "layout": "IPY_MODEL_a08e6980ccc14ef09cf94c066eb7ccee",
            "placeholder": "​",
            "style": "IPY_MODEL_a3341fce55f24a80a271b528e395e008",
            "value": "Downloading preprocessor_config.json: 100%"
          }
        },
        "cfdb16e1ee5e4eb5b2d34a615c048b43": {
          "model_module": "@jupyter-widgets/controls",
          "model_module_version": "1.5.0",
          "model_name": "HBoxModel",
          "state": {
            "_dom_classes": [],
            "_model_module": "@jupyter-widgets/controls",
            "_model_module_version": "1.5.0",
            "_model_name": "HBoxModel",
            "_view_count": null,
            "_view_module": "@jupyter-widgets/controls",
            "_view_module_version": "1.5.0",
            "_view_name": "HBoxView",
            "box_style": "",
            "children": [
              "IPY_MODEL_c94eff7275d1438aa3ca23702321ea7f",
              "IPY_MODEL_20aef42502754a8ca404833af89171a8",
              "IPY_MODEL_58d06f60f7eb43539c98ba9b760ec777"
            ],
            "layout": "IPY_MODEL_18855baca29a4d05b7ef525316e55632"
          }
        },
        "d06ea49ff6434331b5c5852f9739fad0": {
          "model_module": "@jupyter-widgets/controls",
          "model_module_version": "1.5.0",
          "model_name": "ProgressStyleModel",
          "state": {
            "_model_module": "@jupyter-widgets/controls",
            "_model_module_version": "1.5.0",
            "_model_name": "ProgressStyleModel",
            "_view_count": null,
            "_view_module": "@jupyter-widgets/base",
            "_view_module_version": "1.2.0",
            "_view_name": "StyleView",
            "bar_color": null,
            "description_width": ""
          }
        },
        "d60d4a3d7fcc45daa20b4228669fdc52": {
          "model_module": "@jupyter-widgets/controls",
          "model_module_version": "1.5.0",
          "model_name": "ProgressStyleModel",
          "state": {
            "_model_module": "@jupyter-widgets/controls",
            "_model_module_version": "1.5.0",
            "_model_name": "ProgressStyleModel",
            "_view_count": null,
            "_view_module": "@jupyter-widgets/base",
            "_view_module_version": "1.2.0",
            "_view_name": "StyleView",
            "bar_color": null,
            "description_width": ""
          }
        }
      }
    }
  },
  "nbformat": 4,
  "nbformat_minor": 0
}
